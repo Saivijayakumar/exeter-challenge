{
  "nbformat": 4,
  "nbformat_minor": 5,
  "metadata": {
    "kernelspec": {
      "display_name": "Python 3",
      "language": "python",
      "name": "python3"
    },
    "language_info": {
      "codemirror_mode": {
        "name": "ipython",
        "version": 3
      },
      "file_extension": ".py",
      "mimetype": "text/x-python",
      "name": "python",
      "nbconvert_exporter": "python",
      "pygments_lexer": "ipython3",
      "version": "3.8.5"
    },
    "colab": {
      "name": "Exeter v1.ipynb",
      "provenance": [],
      "include_colab_link": true
    }
  },
  "cells": [
    {
      "cell_type": "markdown",
      "metadata": {
        "id": "view-in-github",
        "colab_type": "text"
      },
      "source": [
        "<a href=\"https://colab.research.google.com/github/Saivijayakumar/exeter-challenge/blob/main/Exeter_v1.ipynb\" target=\"_parent\"><img src=\"https://colab.research.google.com/assets/colab-badge.svg\" alt=\"Open In Colab\"/></a>"
      ]
    },
    {
      "cell_type": "markdown",
      "metadata": {
        "id": "vDfO3sULiCc3"
      },
      "source": [
        "## Python Libraries"
      ],
      "id": "vDfO3sULiCc3"
    },
    {
      "cell_type": "code",
      "metadata": {
        "id": "Ar5timwxiCc9"
      },
      "source": [
        "import sys\n",
        "import time\n",
        "import re\n",
        "import pandas as pd\n",
        "from itertools import compress"
      ],
      "id": "Ar5timwxiCc9",
      "execution_count": null,
      "outputs": []
    },
    {
      "cell_type": "markdown",
      "metadata": {
        "id": "7xPDaLhbiCc-"
      },
      "source": [
        "## Reading CSV and Text Files"
      ],
      "id": "7xPDaLhbiCc-"
    },
    {
      "cell_type": "code",
      "metadata": {
        "id": "Lal8sX74iCc_"
      },
      "source": [
        "words_data = pd.read_csv(\"/content/french_dictionary.csv\", header=None)\n",
        "words_data.index = words_data[0]\n",
        "words_data.drop(labels=[0], axis=1, inplace=True)\n",
        "words_data.index.name = \"english\"\n",
        "words_data.columns = [\"french\"]"
      ],
      "id": "Lal8sX74iCc_",
      "execution_count": null,
      "outputs": []
    },
    {
      "cell_type": "code",
      "metadata": {
        "id": "YJEIS4fliCc_"
      },
      "source": [
        "find_words = []\n",
        "file = open(\"/content/find_words.txt\")\n",
        "find_words = [\"\".join(lines.split()) for lines in file.readlines()]\n",
        "file.close()"
      ],
      "id": "YJEIS4fliCc_",
      "execution_count": null,
      "outputs": []
    },
    {
      "cell_type": "code",
      "metadata": {
        "id": "vxfCichgiCc_"
      },
      "source": [
        "replace = []\n",
        "file = open(\"/content/t8.shakespeare.txt\")\n",
        "replace = [\"\".join(lines.replace(\"\\n\", \"\")) for lines in file.readlines()]\n",
        "file.close()"
      ],
      "id": "vxfCichgiCc_",
      "execution_count": null,
      "outputs": []
    },
    {
      "cell_type": "markdown",
      "metadata": {
        "id": "sRCFvY-miCdA"
      },
      "source": [
        "## Counting Find Words Before Translating"
      ],
      "id": "sRCFvY-miCdA"
    },
    {
      "cell_type": "code",
      "metadata": {
        "id": "SIz7gFc4iCdA"
      },
      "source": [
        "words_count_before = {word:0 for word in find_words}\n",
        "freq_replace = {word:0 for word in find_words}"
      ],
      "id": "SIz7gFc4iCdA",
      "execution_count": null,
      "outputs": []
    },
    {
      "cell_type": "code",
      "metadata": {
        "id": "4UNXmIuEiCdA"
      },
      "source": [
        "for i in range(len(replace)):\n",
        "    splitted_words = replace[i].split()\n",
        "    status = [True if (i.lower() in find_words) else False for i in splitted_words]\n",
        "    idx = list(compress(range(len(status)), status))\n",
        "    if len(idx) > 0:\n",
        "        for j in idx:\n",
        "            words_count_before[splitted_words[j].lower()] = words_count_before.get(splitted_words[j].lower()) + 1\n",
        "    else:\n",
        "        pass"
      ],
      "id": "4UNXmIuEiCdA",
      "execution_count": null,
      "outputs": []
    },
    {
      "cell_type": "markdown",
      "metadata": {
        "id": "nLX8RHjPiCdA"
      },
      "source": [
        "## Translating from English to French"
      ],
      "id": "nLX8RHjPiCdA"
    },
    {
      "cell_type": "code",
      "metadata": {
        "scrolled": false,
        "colab": {
          "base_uri": "https://localhost:8080/"
        },
        "id": "HheFZmAziCdB",
        "outputId": "7f45c84e-14d9-47dd-c816-c6a543b7508d"
      },
      "source": [
        "start_time = time.time()\n",
        "\n",
        "for i in range(len(replace)):\n",
        "    splitted_words = replace[i].split()\n",
        "    status = [True if (i.lower() in find_words) else False for i in splitted_words]\n",
        "    idx = list(compress(range(len(status)), status))\n",
        "    if len(idx) > 0:\n",
        "        for j in idx:\n",
        "            freq_replace[splitted_words[j].lower()] = freq_replace.get(splitted_words[j].lower()) + 1\n",
        "            splitted_words[j] = words_data.loc[splitted_words[j].lower()].values[0]\n",
        "        replace[i] = \" \".join(splitted_words)\n",
        "    else:\n",
        "        pass\n",
        "\n",
        "end_time = time.time()\n",
        "print(\"Time Taken to Translate : \", round((end_time - start_time),0), \"seconds.\")"
      ],
      "id": "HheFZmAziCdB",
      "execution_count": null,
      "outputs": [
        {
          "output_type": "stream",
          "text": [
            "Time Taken to Translate :  25.0 seconds.\n"
          ],
          "name": "stdout"
        }
      ]
    },
    {
      "cell_type": "markdown",
      "metadata": {
        "id": "i1hbGwNiiCdC"
      },
      "source": [
        "## Objects Memory Size"
      ],
      "id": "i1hbGwNiiCdC"
    },
    {
      "cell_type": "code",
      "metadata": {
        "scrolled": false,
        "colab": {
          "base_uri": "https://localhost:8080/"
        },
        "id": "dKrBJCdZiCdC",
        "outputId": "9618f95c-40cd-4a17-d4f8-1617664b60a8"
      },
      "source": [
        "print(\"Size of Find Words : \", sys.getsizeof(find_words), \"bytes.\", \"(\", sys.getsizeof(find_words) / 1e+6, \"in MB)\")\n",
        "print(\"Size of English to French Dictionary : \", sys.getsizeof(words_data), \"bytes.\", \"(\", sys.getsizeof(words_data) / 1e+6, \"in MB)\")\n",
        "print(\"Size of Replacement Text : \", sys.getsizeof(replace), \"bytes.\", \"(\", sys.getsizeof(replace) / 1e+6, \"in MB)\")\n",
        "total_size = (sys.getsizeof(find_words) / 1e+6) + (sys.getsizeof(words_data) / 1e+6) + (sys.getsizeof(replace) / 1e+6)\n",
        "print(\"Total Memory Size Required : \", total_size, \"MB\")\n"
      ],
      "id": "dKrBJCdZiCdC",
      "execution_count": null,
      "outputs": [
        {
          "output_type": "stream",
          "text": [
            "Size of Find Words :  9032 bytes. ( 0.009032 in MB)\n",
            "Size of English to French Dictionary :  173900 bytes. ( 0.1739 in MB)\n",
            "Size of Replacement Text :  1043568 bytes. ( 1.043568 in MB)\n",
            "Total Memory Size Required :  1.2265000000000001 MB\n"
          ],
          "name": "stdout"
        }
      ]
    },
    {
      "cell_type": "markdown",
      "metadata": {
        "id": "7Nt8mEV0iCdC"
      },
      "source": [
        "## Writing the Translated Script"
      ],
      "id": "7Nt8mEV0iCdC"
    },
    {
      "cell_type": "code",
      "metadata": {
        "id": "cwPaMRc9iCdC"
      },
      "source": [
        "final = [replace[i] + \"\\n\" for i in range(len(replace))]"
      ],
      "id": "cwPaMRc9iCdC",
      "execution_count": null,
      "outputs": []
    },
    {
      "cell_type": "code",
      "metadata": {
        "id": "jZxU8WXXiCdD"
      },
      "source": [
        "file = open(\"/content/translated_output.txt\", 'w')\n",
        "file.writelines(final)\n",
        "file.close()"
      ],
      "id": "jZxU8WXXiCdD",
      "execution_count": null,
      "outputs": []
    },
    {
      "cell_type": "markdown",
      "metadata": {
        "id": "wFbdgznRiCdD"
      },
      "source": [
        "## Checking Whether All Words are Replaced"
      ],
      "id": "wFbdgznRiCdD"
    },
    {
      "cell_type": "code",
      "metadata": {
        "id": "W6C494NBiCdD"
      },
      "source": [
        "status = []\n",
        "for i, j in zip(words_count_before.items(), freq_replace.items()):\n",
        "    if (i[1] - j[1]) != 0:\n",
        "      print(i[0], \"wasn't replaced completely.\")\n",
        "    else:\n",
        "      status.append(True)"
      ],
      "id": "W6C494NBiCdD",
      "execution_count": null,
      "outputs": []
    },
    {
      "cell_type": "markdown",
      "metadata": {
        "id": "V9kz1rbKiCdD"
      },
      "source": [
        "## Writing the Frequency of Words Replaced in CSV File"
      ],
      "id": "V9kz1rbKiCdD"
    },
    {
      "cell_type": "code",
      "metadata": {
        "id": "SZSgnsZdiCdE"
      },
      "source": [
        "final_res = pd.DataFrame(data=[freq_replace.keys()]).T\n",
        "final_res.columns = [\"English\"]"
      ],
      "id": "SZSgnsZdiCdE",
      "execution_count": null,
      "outputs": []
    },
    {
      "cell_type": "code",
      "metadata": {
        "id": "hp-trDrYiCdE"
      },
      "source": [
        "final_df = pd.concat([final_res, words_data[\"french\"]], axis=1)"
      ],
      "id": "hp-trDrYiCdE",
      "execution_count": null,
      "outputs": []
    },
    {
      "cell_type": "code",
      "metadata": {
        "id": "pX5sWLOfiCdE"
      },
      "source": [
        "french_words = words_data[\"french\"]\n",
        "french_words.index = range(1000)"
      ],
      "id": "pX5sWLOfiCdE",
      "execution_count": null,
      "outputs": []
    },
    {
      "cell_type": "code",
      "metadata": {
        "id": "w0o1fT6JiCdE"
      },
      "source": [
        "final_df = pd.concat([final_res, words_data[\"french\"]], axis=1)"
      ],
      "id": "w0o1fT6JiCdE",
      "execution_count": null,
      "outputs": []
    },
    {
      "cell_type": "code",
      "metadata": {
        "id": "F_2Xua8BiCdE"
      },
      "source": [
        "final_df = pd.concat([final_df, pd.Series(freq_replace.values(), index=range(1000))], axis=1)\n",
        "final_df.columns = [\"English\", \"French\", \"Frequency Replaced\"]"
      ],
      "id": "F_2Xua8BiCdE",
      "execution_count": null,
      "outputs": []
    },
    {
      "cell_type": "code",
      "metadata": {
        "id": "ge4O6lINiCdF"
      },
      "source": [
        "final_df.to_csv(\"/content/replaced_frequency.csv\", index=None)"
      ],
      "id": "ge4O6lINiCdF",
      "execution_count": null,
      "outputs": []
    },
    {
      "cell_type": "code",
      "metadata": {
        "id": "K4aJZUt0i0wi"
      },
      "source": [
        ""
      ],
      "id": "K4aJZUt0i0wi",
      "execution_count": null,
      "outputs": []
    }
  ]
}